{
  "cells": [
    {
      "cell_type": "code",
      "execution_count": 1,
      "metadata": {
        "id": "IPM9BKLFW6pj"
      },
      "outputs": [
        {
          "data": {
            "text/plain": [
              "'\\nIntroduction to Data Science\\n    Programming Exercise: 01 \\n    Name : Tran Minh Hien\\n    Student ID: 21280016\\n'"
            ]
          },
          "execution_count": 1,
          "metadata": {},
          "output_type": "execute_result"
        }
      ],
      "source": [
        "\"\"\"\n",
        "Introduction to Data Science\n",
        "    Programming Exercise: 01 \n",
        "    Name : Tran Minh Hien\n",
        "    Student ID: 21280016\n",
        "\"\"\""
      ]
    },
    {
      "attachments": {},
      "cell_type": "markdown",
      "metadata": {
        "id": "q23vSTg18BZM"
      },
      "source": [
        "# Introduction to Data Science - 21KDL1\n",
        "## PE01: Python fundamentals:\n"
      ]
    },
    {
      "attachments": {},
      "cell_type": "markdown",
      "metadata": {
        "id": "T9jEKhg1JbaJ"
      },
      "source": [
        "## Preliminaries\n",
        "Taking user input from the keyboard in Python:"
      ]
    },
    {
      "cell_type": "code",
      "execution_count": 2,
      "metadata": {
        "colab": {
          "base_uri": "https://localhost:8080/"
        },
        "id": "eL84CH7_KPrU",
        "outputId": "95868a05-48a8-4491-8c80-8f793fbae243"
      },
      "outputs": [
        {
          "name": "stdout",
          "output_type": "stream",
          "text": [
            "Hien\n"
          ]
        }
      ],
      "source": [
        "# Execute this cell and then type your name inside the box\n",
        "name = input(\"Please enter your name: \")\n",
        "print(name)"
      ]
    },
    {
      "attachments": {},
      "cell_type": "markdown",
      "metadata": {
        "id": "UqKzvlN2LzZ0"
      },
      "source": [
        "*Note* that everything from the user's keyboard input will be considered as a string. If you want to input an integer (same as float, etc), let's use `int()` to convert it into a correspoinding data type."
      ]
    },
    {
      "attachments": {},
      "cell_type": "markdown",
      "metadata": {
        "id": "Hv6nWa66KtDM"
      },
      "source": [
        "## Exercises"
      ]
    },
    {
      "attachments": {},
      "cell_type": "markdown",
      "metadata": {
        "id": "9mtZxwGw8ZHo"
      },
      "source": [
        "### Variable Exercises:\n",
        "**Q1:** Write a program that asks the user for their name and age, then prints out a message that says \"Hello `[name]`, you are `[age]` years old!\"\n",
        "Write a program that takes a user input number and prints out whether the number is odd or even."
      ]
    },
    {
      "cell_type": "code",
      "execution_count": 3,
      "metadata": {
        "id": "PkAEFuJQtJeS"
      },
      "outputs": [
        {
          "name": "stdout",
          "output_type": "stream",
          "text": [
            "Hello Hien , you are 20 years old!\n"
          ]
        }
      ],
      "source": [
        "name = input(\"Please enter your name: \")\n",
        "age = int(input(\"Please enter your age: \"))\n",
        "print(f\"Hello {name}, you are {age} years old!\")"
      ]
    },
    {
      "attachments": {},
      "cell_type": "markdown",
      "metadata": {
        "id": "BpocBEVV9HBv"
      },
      "source": [
        "\n",
        "**Q2:** Write a program that takes a user input number and prints out whether the number is odd or even."
      ]
    },
    {
      "cell_type": "code",
      "execution_count": 4,
      "metadata": {
        "id": "DFVcRPpK9HVz"
      },
      "outputs": [
        {
          "name": "stdout",
          "output_type": "stream",
          "text": [
            "The number is odd.\n"
          ]
        }
      ],
      "source": [
        "number =int(input(\"please enter number: \"))\n",
        "if number %2 == 0 :\n",
        "    print(\"The number is odd.\")\n",
        "else :\n",
        "    print(\"The number is even.\")"
      ]
    },
    {
      "attachments": {},
      "cell_type": "markdown",
      "metadata": {
        "id": "yqvc5Ja49cSK"
      },
      "source": [
        "### Loop Exercises:\n",
        "**Q3:** Write a program that prints out the numbers from 1 to 10 using a for loop."
      ]
    },
    {
      "cell_type": "code",
      "execution_count": 5,
      "metadata": {
        "id": "kD-3iVGZ9k9q"
      },
      "outputs": [
        {
          "name": "stdout",
          "output_type": "stream",
          "text": [
            "1\n",
            "2\n",
            "3\n",
            "4\n",
            "5\n",
            "6\n",
            "7\n",
            "8\n",
            "9\n",
            "10\n"
          ]
        }
      ],
      "source": [
        "for num in range(1,11):\n",
        "    print(num)    "
      ]
    },
    {
      "attachments": {},
      "cell_type": "markdown",
      "metadata": {
        "id": "Nmvi45ry9mah"
      },
      "source": [
        "**Q4:** Write a program that asks the user to input a number, then prints out all the even numbers between 0 and the user input number using a while loop."
      ]
    },
    {
      "cell_type": "code",
      "execution_count": 6,
      "metadata": {
        "id": "7eWg6Tb39q5k"
      },
      "outputs": [
        {
          "name": "stdout",
          "output_type": "stream",
          "text": [
            "0\n",
            "2\n",
            "4\n",
            "6\n",
            "8\n",
            "10\n",
            "12\n",
            "14\n",
            "16\n",
            "18\n",
            "20\n",
            "22\n",
            "24\n"
          ]
        }
      ],
      "source": [
        "is_continue= True\n",
        "num = int(input(\"Please enter the number: \"))\n",
        "num_check = 0 \n",
        "while is_continue:\n",
        "    if num_check != num + 1:\n",
        "        if num_check %2 == 0:\n",
        "            print(num_check)\n",
        "    else:\n",
        "        is_continue= False\n",
        "    num_check +=1  "
      ]
    },
    {
      "attachments": {},
      "cell_type": "markdown",
      "metadata": {
        "id": "SLkSRDHs_XvQ"
      },
      "source": [
        "### List Exercises:\n",
        "**Q5:** Write a program that takes the last 5 elements of a list `numbers`"
      ]
    },
    {
      "cell_type": "code",
      "execution_count": 7,
      "metadata": {
        "id": "x4A2CEal_sW8"
      },
      "outputs": [
        {
          "name": "stdout",
          "output_type": "stream",
          "text": [
            "[8, 9, -5, 11, 20]\n"
          ]
        }
      ],
      "source": [
        "numbers = [5, 1, 7, 7, 8, 10, -2, 6, 8, 9, -5, 11, 20]\n",
        "print(numbers[(len(numbers)-5) : len(numbers)])"
      ]
    },
    {
      "attachments": {},
      "cell_type": "markdown",
      "metadata": {
        "id": "Jtj9oyRe-cjV"
      },
      "source": [
        "**Q6:** Write a program that takes a list of `numbers` from 1 to 10 and returns a new list containing only the even numbers. (Recommend to use list comprehension)"
      ]
    },
    {
      "cell_type": "code",
      "execution_count": 8,
      "metadata": {
        "id": "zgie8u2_-1BJ"
      },
      "outputs": [
        {
          "name": "stdout",
          "output_type": "stream",
          "text": [
            "[2, 4, 6, 8, 10]\n"
          ]
        }
      ],
      "source": [
        "numbers =[number for number in range(1,11)]\n",
        "even_numbers= [number for number in numbers if number %2==0]\n",
        "print(even_numbers)"
      ]
    },
    {
      "attachments": {},
      "cell_type": "markdown",
      "metadata": {
        "id": "cb0mKps4BnSW"
      },
      "source": [
        "### Dictionary Exercises:\n",
        "**Q7:** Write a program that takes a dictionary of names and ages and returns a new dictionary containing only the names of people who are over 18 years old."
      ]
    },
    {
      "cell_type": "code",
      "execution_count": 9,
      "metadata": {
        "id": "uyRz6j1kB-5S"
      },
      "outputs": [
        {
          "name": "stdout",
          "output_type": "stream",
          "text": [
            "{'John': 19, 'James': 30, 'Lisa': 19, 'Jennie': 20}\n"
          ]
        }
      ],
      "source": [
        "name_to_age = {'John': 19, \n",
        "                'Tom': 15, \n",
        "                'James': 30, \n",
        "                'Danny': 18, \n",
        "                'Lisa': 19, \n",
        "                'Rose': 17, \n",
        "                'Jisoo': 16, \n",
        "                'Jennie': 20}\n",
        "\n",
        "name_age_over18= {}\n",
        "for name in name_to_age:\n",
        "    if name_to_age[name] > 18 :\n",
        "        name_age_over18[name]=name_to_age[name]\n",
        "print(name_age_over18)"
      ]
    },
    {
      "attachments": {},
      "cell_type": "markdown",
      "metadata": {
        "id": "o4nZs67W9rj6"
      },
      "source": [
        "### Function Exercises:\n",
        "**Q8:** Write a function `calc_sum()` that takes a list of numbers `nums` as input and returns the sum of the numbers.\n"
      ]
    },
    {
      "cell_type": "code",
      "execution_count": 10,
      "metadata": {
        "id": "qYELBffHJJrW"
      },
      "outputs": [
        {
          "data": {
            "text/plain": [
              "9"
            ]
          },
          "execution_count": 10,
          "metadata": {},
          "output_type": "execute_result"
        }
      ],
      "source": [
        "def calc_sum(nums):\n",
        "    return sum(nums)\n",
        "\n",
        "nums = [5, 3, -2, 4, -1]\n",
        "calc_sum(nums) "
      ]
    },
    {
      "attachments": {},
      "cell_type": "markdown",
      "metadata": {
        "id": "dXXLPMzk-JNi"
      },
      "source": [
        "**Q9:** Write a function that takes a string as input and returns a dictionary containing the frequency of each character in the string."
      ]
    },
    {
      "cell_type": "code",
      "execution_count": 11,
      "metadata": {
        "id": "kqtL-abJ-L7I"
      },
      "outputs": [
        {
          "name": "stdout",
          "output_type": "stream",
          "text": [
            "{'a': 2, 'b': 1, 'c': 3, 'd': 1, 'e': 3, 'f': 2}\n"
          ]
        }
      ],
      "source": [
        "def count_char_freq(input_string):\n",
        "    d = {}\n",
        "    for i in input_string:\n",
        "        d[i] = d.get(i,0)+1\n",
        "    return d\n",
        "\n",
        "string = \"abcaccdefeef\"\n",
        "char_freq = count_char_freq(string)\n",
        "print(char_freq)"
      ]
    },
    {
      "attachments": {},
      "cell_type": "markdown",
      "metadata": {
        "id": "DdNrfKtyFzyz"
      },
      "source": [
        "### Pandas Exercises:\n",
        "Let's use dataset available at https://www.kaggle.com/datasets/shivamb/netflix-shows to complete the following exercises:\n",
        "\n",
        "**Q10:** Load a CSV file `netflix_titles.csv` into a pandas DataFrame and print out the first 10 rows."
      ]
    },
    {
      "cell_type": "code",
      "execution_count": 12,
      "metadata": {
        "id": "jbXzWA0WMHex"
      },
      "outputs": [
        {
          "name": "stdout",
          "output_type": "stream",
          "text": [
            "  show_id     type                             title  \\\n",
            "0      s1    Movie              Dick Johnson Is Dead   \n",
            "1      s2  TV Show                     Blood & Water   \n",
            "2      s3  TV Show                         Ganglands   \n",
            "3      s4  TV Show             Jailbirds New Orleans   \n",
            "4      s5  TV Show                      Kota Factory   \n",
            "5      s6  TV Show                     Midnight Mass   \n",
            "6      s7    Movie  My Little Pony: A New Generation   \n",
            "7      s8    Movie                           Sankofa   \n",
            "8      s9  TV Show     The Great British Baking Show   \n",
            "9     s10    Movie                      The Starling   \n",
            "\n",
            "                        director  \\\n",
            "0                Kirsten Johnson   \n",
            "1                            NaN   \n",
            "2                Julien Leclercq   \n",
            "3                            NaN   \n",
            "4                            NaN   \n",
            "5                  Mike Flanagan   \n",
            "6  Robert Cullen, José Luis Ucha   \n",
            "7                   Haile Gerima   \n",
            "8                Andy Devonshire   \n",
            "9                 Theodore Melfi   \n",
            "\n",
            "                                                cast  \\\n",
            "0                                                NaN   \n",
            "1  Ama Qamata, Khosi Ngema, Gail Mabalane, Thaban...   \n",
            "2  Sami Bouajila, Tracy Gotoas, Samuel Jouy, Nabi...   \n",
            "3                                                NaN   \n",
            "4  Mayur More, Jitendra Kumar, Ranjan Raj, Alam K...   \n",
            "5  Kate Siegel, Zach Gilford, Hamish Linklater, H...   \n",
            "6  Vanessa Hudgens, Kimiko Glenn, James Marsden, ...   \n",
            "7  Kofi Ghanaba, Oyafunmike Ogunlano, Alexandra D...   \n",
            "8  Mel Giedroyc, Sue Perkins, Mary Berry, Paul Ho...   \n",
            "9  Melissa McCarthy, Chris O'Dowd, Kevin Kline, T...   \n",
            "\n",
            "                                             country          date_added  \\\n",
            "0                                      United States  September 25, 2021   \n",
            "1                                       South Africa  September 24, 2021   \n",
            "2                                                NaN  September 24, 2021   \n",
            "3                                                NaN  September 24, 2021   \n",
            "4                                              India  September 24, 2021   \n",
            "5                                                NaN  September 24, 2021   \n",
            "6                                                NaN  September 24, 2021   \n",
            "7  United States, Ghana, Burkina Faso, United Kin...  September 24, 2021   \n",
            "8                                     United Kingdom  September 24, 2021   \n",
            "9                                      United States  September 24, 2021   \n",
            "\n",
            "   release_year rating   duration  \\\n",
            "0          2020  PG-13     90 min   \n",
            "1          2021  TV-MA  2 Seasons   \n",
            "2          2021  TV-MA   1 Season   \n",
            "3          2021  TV-MA   1 Season   \n",
            "4          2021  TV-MA  2 Seasons   \n",
            "5          2021  TV-MA   1 Season   \n",
            "6          2021     PG     91 min   \n",
            "7          1993  TV-MA    125 min   \n",
            "8          2021  TV-14  9 Seasons   \n",
            "9          2021  PG-13    104 min   \n",
            "\n",
            "                                           listed_in  \\\n",
            "0                                      Documentaries   \n",
            "1    International TV Shows, TV Dramas, TV Mysteries   \n",
            "2  Crime TV Shows, International TV Shows, TV Act...   \n",
            "3                             Docuseries, Reality TV   \n",
            "4  International TV Shows, Romantic TV Shows, TV ...   \n",
            "5                 TV Dramas, TV Horror, TV Mysteries   \n",
            "6                           Children & Family Movies   \n",
            "7   Dramas, Independent Movies, International Movies   \n",
            "8                       British TV Shows, Reality TV   \n",
            "9                                   Comedies, Dramas   \n",
            "\n",
            "                                         description  \n",
            "0  As her father nears the end of his life, filmm...  \n",
            "1  After crossing paths at a party, a Cape Town t...  \n",
            "2  To protect his family from a powerful drug lor...  \n",
            "3  Feuds, flirtations and toilet talk go down amo...  \n",
            "4  In a city of coaching centers known to train I...  \n",
            "5  The arrival of a charismatic young priest brin...  \n",
            "6  Equestria's divided. But a bright-eyed hero be...  \n",
            "7  On a photo shoot in Ghana, an American model s...  \n",
            "8  A talented batch of amateur bakers face off in...  \n",
            "9  A woman adjusting to life after a loss contend...  \n"
          ]
        }
      ],
      "source": [
        "import pandas as pd\n",
        "\n",
        "file_csv= pd.read_csv('netflix_titles.csv')\n",
        "print(file_csv.head(10))"
      ]
    },
    {
      "attachments": {},
      "cell_type": "markdown",
      "metadata": {
        "id": "switI7YdMH_M"
      },
      "source": [
        "**Q11:** Show movies that were released between 2016 and 2020 (i.e, including 2016 and 2020). *Hint: you might be interested in `release_year`."
      ]
    },
    {
      "cell_type": "code",
      "execution_count": 13,
      "metadata": {
        "id": "CHprGj-fMIdO"
      },
      "outputs": [
        {
          "name": "stdout",
          "output_type": "stream",
          "text": [
            "0                            Dick Johnson Is Dead\n",
            "1                                   Blood & Water\n",
            "2                                       Ganglands\n",
            "3                           Jailbirds New Orleans\n",
            "4                                    Kota Factory\n",
            "                          ...                    \n",
            "7594           Norm of the North: Family Vacation\n",
            "8099                                  Straight Up\n",
            "8125                                  Super Wings\n",
            "8132    Surviving R. Kelly Part II: The Reckoning\n",
            "8437                       The Netflix Afterparty\n",
            "Name: title, Length: 1545, dtype: object\n"
          ]
        }
      ],
      "source": [
        "file_to_film=file_csv.loc[(file_csv[\"release_year\"] >=2016)& (file_csv['release_year']>=2020)]\n",
        "print(file_to_film['title'])"
      ]
    }
  ],
  "metadata": {
    "colab": {
      "provenance": []
    },
    "kernelspec": {
      "display_name": "Python 3",
      "name": "python3"
    },
    "language_info": {
      "codemirror_mode": {
        "name": "ipython",
        "version": 3
      },
      "file_extension": ".py",
      "mimetype": "text/x-python",
      "name": "python",
      "nbconvert_exporter": "python",
      "pygments_lexer": "ipython3",
      "version": "3.10.10"
    }
  },
  "nbformat": 4,
  "nbformat_minor": 0
}
