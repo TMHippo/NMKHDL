{
 "cells": [
  {
   "attachments": {},
   "cell_type": "markdown",
   "metadata": {},
   "source": [
    "# LAB 04\n"
   ]
  },
  {
   "attachments": {},
   "cell_type": "markdown",
   "metadata": {},
   "source": [
    "## Lấy các đường dẫn đến các bài báo"
   ]
  },
  {
   "cell_type": "code",
   "execution_count": 1,
   "metadata": {},
   "outputs": [],
   "source": [
    "import requests\n",
    "from bs4 import BeautifulSoup\n",
    "import csv"
   ]
  },
  {
   "cell_type": "code",
   "execution_count": 22,
   "metadata": {},
   "outputs": [],
   "source": [
    "url = 'https://arxiv.org/list/cs.AI/recent'\n",
    "page =requests.get(url,headers={\"Acept-Language\":\"en-US\"})\n",
    "soup = BeautifulSoup(page.text,\"html.parser\")"
   ]
  },
  {
   "attachments": {},
   "cell_type": "markdown",
   "metadata": {},
   "source": [
    "## Đi đến đường dẫn mỗi bài báo, trích xuất các thông tin như: tên bài báo, tên tác giả, abstract của bài báo, subjects, đường dẫn download bài báo."
   ]
  },
  {
   "cell_type": "code",
   "execution_count": 3,
   "metadata": {},
   "outputs": [
    {
     "data": {
      "text/plain": [
       "25"
      ]
     },
     "execution_count": 3,
     "metadata": {},
     "output_type": "execute_result"
    }
   ],
   "source": [
    "titles = []\n",
    "for div in soup.find_all( 'div',{'class': 'list-title mathjax'}):\n",
    "    title=div.text.split()\n",
    "    title.remove('Title:')\n",
    "    mystring = ' '.join(title)\n",
    "    titles.append(mystring)\n",
    "len(titles)"
   ]
  },
  {
   "cell_type": "code",
   "execution_count": 23,
   "metadata": {},
   "outputs": [
    {
     "data": {
      "text/plain": [
       "25"
      ]
     },
     "execution_count": 23,
     "metadata": {},
     "output_type": "execute_result"
    }
   ],
   "source": [
    "authors= []\n",
    "for div in soup.find_all( 'div',{'class': 'list-authors'}):\n",
    "    author=div.text.split()\n",
    "    author.remove('Authors:')\n",
    "    mystring = ' '.join(author)\n",
    "    authors.append(mystring)\n",
    "len(authors)\n",
    "    "
   ]
  },
  {
   "cell_type": "code",
   "execution_count": 5,
   "metadata": {},
   "outputs": [
    {
     "data": {
      "text/plain": [
       "25"
      ]
     },
     "execution_count": 5,
     "metadata": {},
     "output_type": "execute_result"
    }
   ],
   "source": [
    "subjects=[]\n",
    "for div in soup.find_all( 'div',{'class': 'list-subjects'}):\n",
    "    subject=div.text.split()\n",
    "    subject.remove('Subjects:')\n",
    "    mystring = ' '.join(subject)\n",
    "    subjects.append(mystring)\n",
    "len(subjects)\n",
    "\n"
   ]
  },
  {
   "cell_type": "code",
   "execution_count": 10,
   "metadata": {},
   "outputs": [
    {
     "data": {
      "text/plain": [
       "25"
      ]
     },
     "execution_count": 10,
     "metadata": {},
     "output_type": "execute_result"
    }
   ],
   "source": [
    "abstracts  = []\n",
    "for div in soup.find_all('span',{'class': 'list-identifier'}):\n",
    "    s =div.text\n",
    "    start_index = s.index(':') + 1\n",
    "    end_index =  s.index('(') if '(' in s else s.index('[')\n",
    "    data = s[start_index:end_index].strip()\n",
    "    # arxiv.org/pdf/2305.13258\n",
    "    url1 = 'https://arxiv.org/abs/'\n",
    "    url=url1+data\n",
    "    page1 =requests.get(url,headers={\"Acept-Language\":\"en-US\"})\n",
    "    soup1 = BeautifulSoup(page1.text,\"html.parser\")\n",
    "    a=soup1.find(class_=\"abstract mathjax\").text\n",
    "    author=a.split()\n",
    "    author.remove('Abstract:')\n",
    "    mystring = ' '.join(author)\n",
    "    abstracts.append(mystring)\n",
    "len(abstracts)   \n",
    "    \n",
    "   \n",
    "    \n",
    "    "
   ]
  },
  {
   "cell_type": "code",
   "execution_count": 11,
   "metadata": {},
   "outputs": [
    {
     "data": {
      "text/plain": [
       "25"
      ]
     },
     "execution_count": 11,
     "metadata": {},
     "output_type": "execute_result"
    }
   ],
   "source": [
    "urls = []\n",
    "for div in soup.find_all('span',{'class': 'list-identifier'}):\n",
    "    s =div.text\n",
    "    start_index = s.index(':') + 1\n",
    "    end_index =  s.index('(') if '(' in s else s.index('[')\n",
    "    data = s[start_index:end_index].strip()\n",
    "    # arxiv.org/pdf/2305.13258\n",
    "    url1 = 'arxiv.org/pdf/'\n",
    "    url=url1+data\n",
    "    urls.append(url)\n",
    "len(urls)   "
   ]
  },
  {
   "attachments": {},
   "cell_type": "markdown",
   "metadata": {},
   "source": [
    "## Lưu tất cả các thông tin trên của tất cả bài báo thành định dạng file .csv, vơi các column là: Title, Authors, Abstract, Subjects, DownloadUrl"
   ]
  },
  {
   "cell_type": "code",
   "execution_count": 24,
   "metadata": {},
   "outputs": [],
   "source": [
    "with open('articles.csv', mode='w', newline='') as file:\n",
    "    writer = csv.writer(file)\n",
    "    # Ghi tiêu đề của các cột\n",
    "    writer.writerow(['Title', 'Authors','Abstract','Subjects','DownloadUrl'])\n",
    "    # Ghi dữ liệu vào từng hàng\n",
    "    for i in range(len(titles)):\n",
    "        writer.writerow([titles[i], authors[i],abstracts[i],subjects[i],urls[i]])"
   ]
  },
  {
   "attachments": {},
   "cell_type": "markdown",
   "metadata": {},
   "source": [
    "# Regular Expression:"
   ]
  },
  {
   "attachments": {},
   "cell_type": "markdown",
   "metadata": {},
   "source": [
    "## Trích xuất tất cả các định dạng ngày tháng năm có trong văn bản."
   ]
  },
  {
   "attachments": {},
   "cell_type": "markdown",
   "metadata": {},
   "source": []
  },
  {
   "cell_type": "code",
   "execution_count": 26,
   "metadata": {},
   "outputs": [
    {
     "name": "stdout",
     "output_type": "stream",
     "text": [
      "Các ngày tháng năm trong văn bản:['ngày 21 tháng 02 năm 2023', 'ngày 15 tháng 11 năm 2010', 'ngày 25 tháng 11 năm 2019', 'ngày 14 tháng 12 năm 2004', 'ngày 19 tháng 02 năm 2013', 'ngày 14 tháng 12 năm 2004', 'ngày 16 tháng 01 năm 2023', 'ngày 25 tháng 9 năm 2020', 'ngày 14 tháng 12 năm 2004', 'ngày 25 tháng 5 năm 2007', 'ngày 02 tháng 6 năm 1993', 'ngày 03 tháng 11 năm 2004', 'ngày 10 tháng 8 năm 2005', 'ngày 10 tháng 4 năm 2023']\n"
     ]
    }
   ],
   "source": [
    "import re\n",
    "\n",
    "# Đọc nội dung của file văn bản\n",
    "with open('5.txt', 'r', encoding='utf-8') as file:\n",
    "    content = file.read()\n",
    "\n",
    "# Tìm và trích xuất tất cả các định dạng ngày tháng năm trong văn bản\n",
    "date_regex = r'ngày\\s\\d{1,2}\\stháng\\s\\d{1,2}\\snăm\\s\\d{4}'\n",
    "dates = re.findall(date_regex, content)\n",
    "print(f'Các ngày tháng năm trong văn bản:{dates}')\n",
    "\n"
   ]
  },
  {
   "attachments": {},
   "cell_type": "markdown",
   "metadata": {},
   "source": [
    "## Split văn bản thành danh sách các điều luật. "
   ]
  },
  {
   "cell_type": "code",
   "execution_count": 39,
   "metadata": {},
   "outputs": [
    {
     "name": "stdout",
     "output_type": "stream",
     "text": [
      "Danh sách các điều luật trong văn bản:\n",
      "Điều 1. Phạm vi điều chỉnh và đối tượng áp dụng\n",
      "1. Thông tư này quy định mã số, tiêu chuẩn chức danh nghề nghiệp và xếp lương viên chức chuyên ngành tuyên truyền viên văn hóa.\n",
      "2. Thông tư này áp dụng đối với viên chức tuyên truyền viên văn hóa làm việc trong các đơn vị sự nghiệp công lập và các tổ chức, cá nhân có liên quan.\n",
      "\n",
      "\n",
      "Điều 2. Mã số các chức danh nghề nghiệp viên chức chuyên ngành tuyên truyền viên văn hóa\n",
      "1. Tuyên truyền viên văn hóa chính Mã số: V.10.10.34\n",
      "2. Tuyên truyền viên văn hóa Mã số: V.10.10.35\n",
      "3. Tuyên truyền viên văn hóa trung cấp Mã số: V.10.10.36\n",
      "\n",
      "\n",
      "Điều 3. Tiêu chuẩn về đạo đức nghề nghiệp của viên chức chuyên ngành tuyên truyền viên văn hóa\n",
      "1. Có trách nhiệm với công việc được giao, tuân thủ các quy định của pháp luật; thực hiện đúng và đầy đủ nghĩa vụ của viên chức trong hoạt động nghề nghiệp.\n",
      "2. Tâm huyết với nghề, trung thực, khách quan, thẳng thắn; làm việc khoa học, có chính kiến rõ ràng; có thái độ khiêm tốn, đúng mực khi tiếp xúc với nhân dân; có ý thức đấu tranh với những hành vi sai trái, tiêu cực; thực hành tiết kiệm, chống lãng phí.\n",
      "3. Có tinh thần đoàn kết, tích cực, chủ động phối hợp với đồng nghiệp thực hiện nhiệm vụ được giao.\n",
      "4. Không ngừng học tập, rèn luyện nâng cao phẩm chất, trình độ, năng lực.\n",
      "\n",
      "\n",
      "Điều 4. Tuyên truyền viên văn hóa chính - Mã số: V.10.10.34\n",
      "1. Nhiệm vụ:\n",
      "a) Chủ trì xây dựng kế hoạch hoạt động dài hạn, trung hạn, hàng năm về hoạt động tuyên truyền của đơn vị và tổ chức thực hiện sau khi được phê duyệt;\n",
      "b) Chủ trì biên soạn tài liệu và trực tiếp hướng dẫn nghiệp vụ hoạt động tuyên truyền cho cơ sở;\n",
      "c) Chủ trì tổ chức và thực hiện biên tập nội dung chương trình tuyên truyền phục vụ nhiệm vụ chính trị, kinh tế, văn hóa, xã hội; các phong trào, các cuộc vận động lớn; các ngày lễ, kỉ niệm lớn của địa phương và đất nước;\n",
      "d) Tổ chức biên soạn, biên tập các thể loại tin tức, tài liệu tuyên truyền; sáng tác, dàn dựng chương trình, tiết mục văn nghệ, tuyên truyền lưu động; thiết kế, dàn dựng triển lãm, cổ động trực quan;\n",
      "đ) Tham gia các hoạt động đào tạo, bồi dưỡng, hướng dẫn chuyên môn, nghiệp vụ hoạt động tuyên truyền.\n",
      "2. Tiêu chuẩn về trình độ đào tạo, bồi dưỡng:\n",
      "a) Có bằng tốt nghiệp đại học trở lên phù hợp với chuyên ngành tuyên truyền viên văn hóa;\n",
      "b) Có chứng chỉ bồi dưỡng tiêu chuẩn chức danh nghề nghiệp tuyên truyền viên văn hóa.\n",
      "3. Tiêu chuẩn về năng lực chuyên môn, nghiệp vụ:\n",
      "a) Nắm vững chủ trương, đường lối của Đảng, chính sách, pháp luật của Nhà nước về hoạt động tuyên truyền;\n",
      "b) Nắm vững phương pháp tổ chức, hình thức hoạt động tuyên truyền;\n",
      "c) Nắm vững lịch sử, văn hóa, xã hội trên địa bàn được phân công quản lý;\n",
      "d) Có chuyên môn về lĩnh vực văn hóa, nghệ thuật; am hiểu kiến thức, kỹ năng nghiệp vụ tuyên truyền;\n",
      "đ) Có năng lực thu thập, phân tích, tổng hợp và đề xuất các giải pháp để nâng cao chất lượng công tác tuyên truyền ;\n",
      "e) Có kỹ năng sử dụng công nghệ thông tin cơ bản, sử dụng được ngoại ngữ hoặc sử dụng được tiếng dân tộc thiểu số đối với viên chức công tác ở vùng dân tộc thiểu số theo yêu cầu vị trí việc làm.\n",
      "4. Yêu cầu đối với viên chức dự thi hoặc xét thăng hạng chức danh nghề nghiệp tuyên truyền viên văn hóa chính:\n",
      "Có thời gian công tác giữ chức danh nghề nghiệp tuyên truyền viên văn hóa hoặc tương đương từ đủ 09 năm trở lên (không kể thời gian tập sự, thử việc). Trường hợp có thời gian tương đương thì phải có ít nhất 01 năm (đủ 12 tháng) đang giữ chức danh nghề nghiệp tuyên truyền viên văn hóa tính đến ngày hết thời hạn nộp hồ sơ đăng ký dự thi hoặc xét thăng hạng.\n",
      "\n",
      "\n",
      "Điều 5. Tuyên truyền viên văn hóa - Mã số: V.10.10.35\n",
      "1. Nhiệm vụ:\n",
      "a) Xây dựng kế hoạch hàng năm về công tác tuyên truyền được giao và tổ chức thực hiện sau khi được phê duyệt;\n",
      "b) Trực tiếp biên soạn, thiết kế, trình bày các thể loại tin tức, tài liệu tuyên truyền; thực hiện tuyên truyền bằng tin tức, lời nói trực tiếp, thuyết minh, thuyết trình theo đề cương biên tập đã được duyệt;\n",
      "c) Tham gia tổ chức, dàn dựng chương trình, tiết mục văn nghệ, tuyên truyền lưu động; trực tiếp biểu diễn các tiết mục văn nghệ phục vụ nhiệm vụ chính trị;\n",
      "d) Tham gia thiết kế, dàn dựng các triển lãm, cổ động trực quan tại chỗ và lưu động; trực tiếp xây dựng đề cương tổng quát, đề cương chi tiết, biên tập, chú thích hình ảnh theo chủ đề, viết bài, thuyết minh nội dung triển lãm tại chỗ và lưu động.\n",
      "2. Tiêu chuẩn về trình độ đào tạo, bồi dưỡng:\n",
      "a) Có bằng tốt nghiệp đại học trở lên phù hợp với chuyên ngành tuyên truyền viên văn hóa;\n",
      "b) Có chứng chỉ bồi dưỡng tiêu chuẩn chức danh nghề nghiệp tuyên truyền viên văn hóa.\n",
      "3. Tiêu chuẩn về năng lực chuyên môn, nghiệp vụ:\n",
      "a) Nắm vững chủ trương, đường lối của Đảng, chính sách, pháp luật của Nhà nước về hoạt động tuyên truyền;\n",
      "b) Nắm được phương pháp tổ chức, hình thức hoạt động tuyên truyền;\n",
      "c) Có hiểu biết về lịch sử, văn hóa, xã hội trên địa bàn được phân công quản lý;\n",
      "d) Có kiến thức về lĩnh vực văn hóa, nghệ thuật; có một trong các kỹ năng: Thuyết minh, thuyết trình, biểu diễn nhạc cụ, biểu diễn văn nghệ, hội họa, thiết kế, thi công cổ động trực quan hoặc các kỹ năng nghiệp vụ khác phù hợp với hình thức tuyên truyền;\n",
      "đ) Sử dụng thành thạo các phương tiện, thiết bị kỹ thuật phục vụ yêu cầu nhiệm vụ;\n",
      "e) Có kỹ năng sử dụng công nghệ thông tin cơ bản, sử dụng được ngoại ngữ hoặc sử dụng được tiếng dân tộc thiểu số đối với viên chức công tác ở vùng dân tộc thiểu số theo yêu cầu vị trí việc làm.\n",
      "4. Yêu cầu đối với viên chức dự thi hoặc xét thăng hạng chức danh nghề nghiệp tuyên truyền viên văn hóa:\n",
      "Có thời gian công tác giữ chức danh nghề nghiệp tuyên truyền viên văn hoá trung cấp hoặc tương đương từ đủ 03 năm trở lên (không kể thời gian tập sự, thử việc). Trường hợp có thời gian tương đương thì phải có ít nhất 01 năm (đủ 12 tháng) đang giữ chức danh tuyên truyền viên văn hoá trung cấp tính đến ngày hết hạn nộp hồ sơ đăng ký dự thi hoặc xét thăng hạng.\n",
      "\n",
      "\n",
      "Điều 6. Tuyên truyền viên văn hóa trung cấp - Mã số: V.10.10.36\n",
      "1. Nhiệm vụ:\n",
      "a) Trực tiếp tham gia thực hiện tổ chức, biểu diễn các hoạt động tuyên truyền lưu động, hoạt động văn hóa, văn nghệ và các hình thức tuyên truyền cổ động khác tại chỗ hoặc lưu động phù hợp với nhiệm vụ được giao;\n",
      "b) Chụp ảnh, quay phim, thực hiện audio làm tư liệu phục vụ nội dung tuyên truyền.\n",
      "2. Tiêu chuẩn về trình độ đào tạo, bồi dưỡng:\n",
      "a) Có bằng tốt nghiệp trung cấp trở lên phù hợp với chuyên ngành tuyên truyền viên văn hóa;\n",
      "b) Có chứng chỉ bồi dưỡng tiêu chuẩn chức danh nghề nghiệp tuyên truyền viên văn hóa.\n",
      "3. Tiêu chuẩn về năng lực chuyên môn, nghiệp vụ:\n",
      "a) Nắm được chủ trương, đường lối của Đảng, chính sách, pháp luật của Nhà nước về hoạt động tuyên truyền;\n",
      "b) Có kiến thức cơ bản về công tác tuyên truyền và các bộ môn văn hóa nghệ thuật liên quan; có một trong các kỹ năng: Thuyết minh, thuyết trình, biểu diễn nhạc cụ, biểu diễn văn nghệ, hội họa, thiết kế, thi công cổ động trực quan hoặc các kỹ năng nghiệp vụ khác phù hợp với hình thức tuyên truyền;\n",
      "c) Sử dụng được các phương tiện, thiết bị kỹ thuật phục vụ yêu cầu nhiệm vụ;\n",
      "d) Có khả năng ứng dụng công nghệ thông tin cơ bản để thực hiện nhiệm vụ được giao.\n",
      "\n",
      "\n",
      "Điều 7. Nguyên tắc xếp lương chức danh nghề nghiệp đối với viên chức chuyên ngành tuyên truyền viên văn hóa\n",
      "1. Việc bổ nhiệm và xếp lương vào chức danh nghề nghiệp viên chức chuyên ngành tuyên truyền viên văn hóa quy định tại Thông tư này phải căn cứ vào vị trí việc làm, chức trách, nhiệm vụ và chuyên môn, nghiệp vụ đang đảm nhận của viên chức.\n",
      "2. Khi bổ nhiệm và xếp lương vào các chức danh nghề nghiệp viên chức chuyên ngành tuyên truyền viên văn hóa tương ứng không được kết hợp nâng bậc lương hoặc thăng hạng chức danh nghề nghiệp viên chức.\n",
      "\n",
      "\n",
      "Điều 8. Cách xếp lương\n",
      "1. Các chức danh nghề nghiệp viên chức chuyên ngành tuyên truyền viên văn hóa quy định tại Thông tư này được áp dụng Bảng 3 (Bảng lương chuyên môn, nghiệp vụ đối với cán bộ, viên chức trong các đơn vị sự nghiệp của Nhà nước) ban hành kèm theo Nghị định số 204/2004/NĐ-CP ngày 14 tháng 12 năm 2004 của Chính phủ về chế độ tiền lương đối với cán bộ, công chức, viên chức và lực lượng vũ trang (sau đây viết tắt là Nghị định số 204/2004/NĐ-CP), cụ thể như sau:\n",
      "a) Chức danh nghề nghiệp tuyên truyền viên văn hóa chính được áp dụng ngạch lương của viên chức loại A2, nhóm 2 (A2.2), từ hệ số lương 4,00 đến hệ số lương 6,38;\n",
      "b) Chức danh nghề nghiệp tuyên truyền viên văn hóa được áp dụng ngạch lương của viên chức loại A1, từ hệ số lương 2,34 đến hệ số lương 4,98;\n",
      "c) Chức danh nghề nghiệp tuyên truyền viên văn hóa trung cấp được áp dụng ngạch lương của viên chức loại B, từ hệ số lương 1,86 đến hệ số lương 4,06.\n",
      "2. Sau khi hết thời gian tập sự theo quy định và được cấp có thẩm quyền quản lý viên chức quyết định bổ nhiệm chức danh nghề nghiệp viên chức tuyên truyền viên văn hóa thì thực hiện xếp bậc lương theo chức danh nghề nghiệp được bổ nhiệm như sau:\n",
      "a) Trường hợp bổ nhiệm chức danh nghề nghiệp tuyên truyền viên văn hóa trung cấp:\n",
      "Viên chức có trình độ đào tạo trung cấp khi tuyển dụng, phù hợp với vị trí việc làm tuyển dụng được xếp bậc 1, hệ số lương 1,86, ngạch viên chức loại B;\n",
      "Viên chức có trình độ đào tạo cao đẳng trở lên khi tuyển dụng, phù hợp với vị trí việc làm tuyển dụng được xếp bậc 2, hệ số lương 2,06, ngạch viên chức loại B.\n",
      "b) Trường hợp bổ nhiệm chức danh nghề nghiệp tuyên truyền viên văn hóa:\n",
      "Viên chức có trình độ đào tạo đại học khi tuyển dụng, phù hợp với vị trí việc làm tuyển dụng được xếp bậc 1, hệ số lương 2,34, ngạch viên chức loại A1;\n",
      "Viên chức có trình độ đào tạo thạc sỹ khi tuyển dụng, phù hợp với vị trí việc làm tuyển dụng được xếp bậc 2, hệ số lương 2,67, ngạch viên chức loại A1;\n",
      "Viên chức có trình độ đào tạo tiến sỹ khi tuyển dụng, phù hợp với vị trí việc làm tuyển dụng được xếp bậc 3, hệ số lương 3,00, ngạch viên chức loại A1.\n",
      "3. Việc chuyển xếp lương đối với viên chức từ chức danh nghề nghiệp hiện giữ sang chức danh nghề nghiệp tuyên truyền viên văn hóa quy định tại Thông tư này thực hiện theo hướng dẫn tại Mục II Thông tư số 02/2007/TT- BNV ngày 25 tháng 5 năm 2007 của Bộ trưởng Bộ Nội vụ hướng dẫn xếp lương khi nâng ngạch, chuyển ngạch, chuyển loại công chức, viên chức (sau đây viết tắt là Thông tư số 02/2007/TT-BNV).\n",
      "\n",
      "\n",
      "Điều 9. Quy định chuyển tiếp\n",
      "1. Viên chức đã được bổ nhiệm vào các ngạch viên chức tuyên truyền viên theo quy định tại Quyết định số 428/TCCP-VC ngày 02 tháng 6 năm 1993 của Bộ trưởng - Trưởng ban Ban Tổ chức - Cán bộ Chính phủ (nay là Bộ trưởng Bộ Nội vụ) ban hành tiêu chuẩn nghiệp vụ ngạch công chức ngành Văn hóa - Thông tin (sau đây viết tắt là Quyết định số 428/TCCP-VC), Quyết định số 78/2004/QĐ-BNV ngày 03 tháng 11 năm 2004 của Bộ trưởng Bộ Nội vụ ban hành danh mục các ngạch công chức và ngạch viên chức (sau đây viết tắt là Quyết định số 78/2004/QĐ-BNV), Thông tư số 80/2005/TT-BNV ngày 10 tháng 8 năm 2005 của Bộ trưởng Bộ Nội vụ hướng dẫn thực hiện chuyển xếp lương đối với cán bộ, công chức, viên chức có trình độ cao đẳng phù hợp với chuyên môn đang làm được bổ nhiệm vào chức danh nghề nghiệp viên chức chuyên ngành tuyên truyền viên văn hóa quy định tại Thông tư này, như sau:\n",
      "a) Bổ nhiệm vào chức danh nghề nghiệp tuyên truyền viên văn hóa (mã số V.10.10.35) đối với viên chức hiện đang giữ ngạch tuyên truyền viên chính (mã số 17.177).\n",
      "b) Bổ nhiệm vào chức danh nghề nghiệp tuyên truyền viên văn hóa trung cấp (mã số V.10.10.36) đối với viên chức hiện đang giữ ngạch tuyên truyền viên cao đẳng (mã số 17a.177) hoặc tuyên truyền viên (mã số 17.178).\n",
      "2. Việc chuyển xếp lương vào chức danh nghề nghiệp viên chức quy định tại khoản 1 Điều này đối với viên chức đã được xếp lương vào các ngạch viên chức tuyên truyền viên theo quy định tại Quyết định số 428/TCCP-VC, Quyết định số 78/2004/QĐ-BNV và Nghị định số 204/2004/NĐ-CP được thực hiện theo hướng dẫn tại Thông tư số 02/2007/TT-BNV như sau:\n",
      "a) Trường hợp viên chức có hệ số bậc lương bằng ở ngạch cũ thì thực hiện xếp ngang bậc lương và % phụ cấp thâm niên vượt khung (nếu có) đang hưởng ở ngạch cũ (kể cả tính thời gian xét nâng bậc lương lần sau hoặc xét hưởng phụ cấp thâm niên vượt khung nếu có ở ngạch cũ) vào chức danh nghề nghiệp mới được bổ nhiệm.\n",
      "b) Trường hợp viên chức có trình độ cao đẳng khi tuyển dụng đã được xếp lương viên chức loại A0 theo quy định tại Nghị định số 204/2004/NĐ -CP nay được bổ nhiệm vào chức danh nghề nghiệp tuyên truyền viên văn hóa trung cấp thì việc xếp bậc lương căn cứ vào thời gian công tác có đóng bảo hiểm xã hội bắt buộc theo thang lương, bảng lương do Nhà nước quy định (trừ thời gian tập sự) như sau:\n",
      "Tính từ bậc 2 bảng lương viên chức loại B, cứ sau thời gian 02 năm (đủ 24 tháng) được xếp lên 01 bậc lương (nếu có thời gian đứt quãng mà chưa hưởng chế độ bảo hiểm xã hội thì được cộng dồn). Trường hợp trong thời gian công tác có năm không hoàn thành nhiệm vụ được giao hoặc bị kỷ luật thì bị kéo dài thêm theo chế độ nâng bậc lương thường xuyên. Trường hợp trong thời gian công tác được nâng bậc lương trước thời hạn do lập thành tích xuất sắc trong thực hiện nhiệm vụ thì thời gian được nâng bậc lương trước thời hạ n được tính để xếp lên bậc lương cao hơn trước thời hạn tương ứng. Sau khi quy đổi thời gian để xếp vào bậc lương của chức danh nghề nghiệp được bổ nhiệm, nếu có số tháng chưa đủ 24 tháng, thì số tháng này được tính vào thời gian để xét nâng bậc lương lần sau hoặc xét hưởng phụ cấp thâm niên vượt khung (nếu có).\n",
      "Sau khi chuyển xếp lương vào chức danh nghề nghiệp tuyên truyền viên văn hóa trung cấp nêu trên, nếu hệ số lương được xếp ở chức danh nghề nghiệp này cộng với phụ cấp thâm niên vượt khung (nếu có) thấp hơn hệ số lương đã hưởng ở ngạch cũ thì được hưởng hệ số chênh lệch bảo lưu cho bằng hệ số lương (kể cả phụ cấp thâm niên vượt khung, nếu có) đang hưởng ở ngạch cũ. Hệ số chênh lệch bảo lưu này được hưởng trong suốt thời gian viên chức xếp lương ở chức danh nghề nghiệp tuyên truyền viên văn hóa trung cấp. Sau đó, nếu viên chức được thăng hạng chức danh nghề nghiệp thì được cộng hệ số chênh lệch bảo lưu này vào hệ số lương (kể cả phụ cấp thâm niên vượt khung, nếu có) đang hưởng để xếp lương vào chức danh được bổ nhiệm khi thăng hạng chức danh nghề nghiệp và thôi hưởng hệ số chênh lệch bảo lưu kể từ ngày hưởng lương ở chức danh nghề nghiệp mới.\n",
      "3. Viên chức đã được bổ nhiệm vào các ngạch tuyên truyền viên theo quy định của pháp luật từ trước ngày Thông tư này có hiệu lực thi hành thì được xác định là đáp ứng quy định về tiêu chuẩn chức danh nghề nghiệp viên chức chuyên ngành tuyên truyền viên văn hóa quy định tại Thông tư này tương ứng với chức danh nghề nghiệp đã được bổ nhiệm.\n",
      "\n",
      "\n",
      "Điều 10. Tổ chức thực hiện\n",
      "1. Thông tư này là căn cứ để thực hiện việc tuyển dụng, sử dụng và quản lý viên chức chuyên ngành tuyên truyền viên văn hóa làm việc trong các đơn vị sự nghiệp công lập.\n",
      "2. Người đứng đầu các đơn vị sự nghiệp công lập trực tiếp quản lý và sử dụng viên chức có trách nhiệm:\n",
      "a) Rà soát vị trí việc làm của đơn vị, lập phương án bổ nhiệm chức danh nghề nghiệp viên chức chuyên ngành tuyên truyền viên văn hóa thuộc thẩm quyền quản lý, trình cấp có thẩm quyền xem xét, quyết định hoặc quyết định theo thẩm quyền phân cấp;\n",
      "b) Quyết định bổ nhiệm chức danh nghề nghiệp chuyên ngành tuyên truyền viên văn hóa trong các đơn vị sự nghiệp công lập theo thẩm quyền hoặc theo phân cấp, ủy quyền sau khi phương án bổ nhiệm chức danh nghề nghiệp được cấp có thẩm quyền phê duyệt.\n",
      "3. Các Bộ, cơ quan ngang Bộ, cơ quan thuộc Chính phủ, Ủy ban nhân dân tỉnh, thành phố trực thuộc trung ương có trách nhiệm:\n",
      "a) Chỉ đạo các đơn vị thuộc phạm vi quản lý thực hiện bổ nhiệm chức danh nghề nghiệp và xếp lương đối với viên chức giữ chức danh nghề nghiệp chuyên ngành tuyên truyền viên văn hóa theo quy định;\n",
      "b) Quyết định hoặc phân cấp, ủy quyền việc bổ nhiệm và xếp lương chức danh nghề nghiệp chuyên ngành tuyên truyền viên văn hóa đối với viên chức thuộc thẩm quyền quản lý; giải quyết theo thẩm quyền những vướng mắc trong quá trình bổ nhiệm chức danh nghề nghiệp và xếp lương.\n",
      "4. Các tổ chức, đơn vị sự nghiệp ngoài công lập có thể áp dụng quy định tại Thông tư này để tuyển dụng, sử dụng và quản lý đội ngũ người làm việc về chuyên ngành tuyên truyền viên văn hóa.\n",
      "\n",
      "\n",
      "Điều 11. Hiệu lực thi hành\n",
      "1. Thông tư này có hiệu lực thi hành kể từ ngày 10 tháng 4 năm 2023.\n",
      "2. Trường hợp các văn bản dẫn chiếu tại Thông tư này được sửa đổi, bổ sung hoặc thay thế thì thực hiện theo các văn bản đã được sửa đổi, bổ sung hoặc thay thế.\n",
      "\n",
      "\n",
      "Điều 12. Trách nhiệm thi hành\n",
      "1. Bộ trưởng, Thủ trưởng cơ quan ngang Bộ, Thủ trưởng cơ quan thuộc Chính phủ, Chủ tịch Ủy ban nhân dân tỉnh, thành phố trực thuộc trung ương và cơ quan, đơn vị, cá nhân có liên quan chịu trách nhiệm thi hành Thông tư này.\n",
      "2. Trong quá trình thực hiện nếu phát sinh vướng mắc, đề nghị cơ quan, đơn vị, cá nhân kịp thời phản ánh về Bộ Văn hóa, Thể thao và Du lịch để nghiên cứu sửa đổi, bổ sung cho phù hợp.\n",
      "\n",
      "\n"
     ]
    }
   ],
   "source": [
    "# Tách văn bản thành danh sách các điều luật\n",
    "# law_regex = r\"(Điều \\d+\\..*?(?=Điều \\d+\\.|$))\"\n",
    "law_regex = r\"Điều \\d+\\..*?(?=Điều \\d+\\.|$|Chương|\\n\\n)\"\n",
    "laws = re.findall(law_regex, content, re.DOTALL)\n",
    "laws = [law.strip() for law in laws]\n",
    "print('Danh sách các điều luật trong văn bản:\\n')\n",
    "for law in laws:\n",
    "    print(law)\n",
    "    print('\\n')\n",
    "   "
   ]
  },
  {
   "attachments": {},
   "cell_type": "markdown",
   "metadata": {},
   "source": [
    "## Tìm tất cả các mã luật có trong văn bản theo định dạng tương tự như: “204/2004/NĐ-CP”\n"
   ]
  },
  {
   "cell_type": "code",
   "execution_count": 72,
   "metadata": {},
   "outputs": [
    {
     "data": {
      "text/plain": [
       "['02/2023/TT-BVHTTDL',\n",
       " '204/2004/NĐ-CP',\n",
       " '17/2013/NĐ-CP',\n",
       " '204/2004/NĐ-CP',\n",
       " '01/2023/NĐ-CP',\n",
       " '115/2020/NĐ-CP',\n",
       " '204/2004/NĐ-CP',\n",
       " '204/2004/NĐ-CP',\n",
       " '02/2007/TT-BNV',\n",
       " '78/2004/QĐ-BNV',\n",
       " '78/2004/QĐ-BNV',\n",
       " '80/2005/TT-BNV',\n",
       " '78/2004/QĐ-BNV',\n",
       " '204/2004/NĐ-CP',\n",
       " '02/2007/TT-BNV']"
      ]
     },
     "execution_count": 72,
     "metadata": {},
     "output_type": "execute_result"
    }
   ],
   "source": [
    "luat_regex = r'\\d{1,5}\\/\\d{4}\\/\\w+\\-\\w+'\n",
    "luats = re.findall(luat_regex, content)\n",
    "luats"
   ]
  }
 ],
 "metadata": {
  "kernelspec": {
   "display_name": "base",
   "language": "python",
   "name": "python3"
  },
  "language_info": {
   "codemirror_mode": {
    "name": "ipython",
    "version": 3
   },
   "file_extension": ".py",
   "mimetype": "text/x-python",
   "name": "python",
   "nbconvert_exporter": "python",
   "pygments_lexer": "ipython3",
   "version": "3.9.13"
  },
  "orig_nbformat": 4
 },
 "nbformat": 4,
 "nbformat_minor": 2
}
